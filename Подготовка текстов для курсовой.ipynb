{
 "cells": [
  {
   "cell_type": "code",
   "execution_count": 55,
   "metadata": {},
   "outputs": [],
   "source": [
    "import os\n",
    "import re"
   ]
  },
  {
   "cell_type": "code",
   "execution_count": 25,
   "metadata": {},
   "outputs": [],
   "source": [
    "#функция отделяет авторскую речь от диалогов в книгах каждого автора \n",
    "#для каждого автора создается два файла:\n",
    "#1. с диалогами из всех его книг dialog_[имя автора].txt\n",
    "#2. с авторской речью из всех его книг author_[имя автора].txt\n",
    "\n",
    "def separate_dialogs_from_author_speech(author):\n",
    "    \n",
    "    files = os.listdir(author)\n",
    "    \n",
    "    dialogs = []\n",
    "    authors_speech = []\n",
    "    \n",
    "    for file in files:\n",
    "        strfile = str(file)\n",
    "        if strfile.endswith('.txt'):\n",
    "            path = author + '/' + file\n",
    "            with open(path, 'r', encoding = 'utf-8') as t:\n",
    "                text = [line.rstrip('\\n') for line in t]\n",
    "                for string in text:\n",
    "                    if string.startswith('–'):\n",
    "                        dialogs.append(string)\n",
    "                        dialogs.append('\\n')\n",
    "                    else:\n",
    "                        if string != '':\n",
    "                            authors_speech.append(string)\n",
    "                            authors_speech.append('\\n')\n",
    "                    \n",
    "            dialog_file = 'dialog_' + author\n",
    "            author_file = 'author_' + author\n",
    "        \n",
    "            with open (dialog_file, 'w', encoding = 'utf-8') as file:\n",
    "                for i in dialogs:\n",
    "                    file.write(i)\n",
    "            with open (author_file, 'w', encoding = 'utf-8') as file:\n",
    "                for i in authors_speech:\n",
    "                    file.write(i)"
   ]
  },
  {
   "cell_type": "code",
   "execution_count": 69,
   "metadata": {},
   "outputs": [],
   "source": [
    "#функция чистит каждый файл в папке автора от аннотаций, имен авторов, обозначений глав\n",
    "\n",
    "def cleaning(author):\n",
    "    \n",
    "    files = os.listdir(author)\n",
    "    \n",
    "    for file in files:\n",
    "        strfile = str(file)\n",
    "        if strfile.endswith('.txt'):\n",
    "            path = author + '/' + file\n",
    "            with open(path, 'r', encoding = 'utf-8') as t:\n",
    "                text = t.read()\n",
    "                thetext = re.sub('Annotation\\n*.*', '', text)\n",
    "                thetext = re.sub('© .*', '', thetext)\n",
    "                thetext = re.sub('Глава \\d*', '', thetext)\n",
    "                thetext = re.sub('Анна и Сергей Литвиновы', '', thetext)\n",
    "                thetext = re.sub('Татьяна Полякова', '', thetext)\n",
    "                thetext = re.sub('Дарья Донцова', '', thetext)\n",
    "                thetext = re.sub('Евгения Горская', '', thetext)\n",
    "                thetext = re.sub('Александра Маринина', '', thetext)\n",
    "                thetext = re.sub('Татьяна УСТИНОВА', '', thetext)\n",
    "            with open(path, 'w+', encoding = 'utf-8') as t:\n",
    "                newtext = t.write(thetext)"
   ]
  },
  {
   "cell_type": "code",
   "execution_count": 34,
   "metadata": {},
   "outputs": [],
   "source": [
    "#функция считает слова во всех книгах каждого автора \n",
    "\n",
    "def word_counter(author):\n",
    "\n",
    "    files = os.listdir(author)\n",
    "    words = 0\n",
    "    \n",
    "    for file in files:\n",
    "        strfile = str(file)\n",
    "        if strfile.endswith('.txt'):\n",
    "            path = author + '/' + file\n",
    "            with open(path, 'r', encoding = 'utf-8') as t:\n",
    "                text = t.read()\n",
    "                one_file_words = len({x for x in re.findall(r'\\w+', text)})\n",
    "            words = words + one_file_words\n",
    "    \n",
    "    print(author, ': ', words)"
   ]
  },
  {
   "cell_type": "code",
   "execution_count": 70,
   "metadata": {},
   "outputs": [],
   "source": [
    "for folder in os.listdir():\n",
    "    strfolder = str(folder)\n",
    "    if not strfolder.startswith('.') and not strfolder.endswith('.ipynb'):\n",
    "        cleaning(folder)"
   ]
  },
  {
   "cell_type": "code",
   "execution_count": 71,
   "metadata": {},
   "outputs": [
    {
     "name": "stdout",
     "output_type": "stream",
     "text": [
      "Устинова :  220470\n",
      "Маринина :  338305\n",
      "Полякова :  142328\n",
      "Горская :  92504\n",
      "Донцова :  280823\n",
      "Литвиновы :  169637\n"
     ]
    }
   ],
   "source": [
    "for folder in os.listdir():\n",
    "    strfolder = str(folder)\n",
    "    if not strfolder.startswith('.') and not strfolder.endswith('.ipynb'):\n",
    "        word_counter(folder)"
   ]
  },
  {
   "cell_type": "code",
   "execution_count": 72,
   "metadata": {},
   "outputs": [],
   "source": [
    "for folder in os.listdir():\n",
    "    strfolder = str(folder)\n",
    "    if not strfolder.startswith('.') and not strfolder.endswith('.ipynb'):\n",
    "        separate_dialogs_from_author_speech(folder)"
   ]
  }
 ],
 "metadata": {
  "kernelspec": {
   "display_name": "Python 3",
   "language": "python",
   "name": "python3"
  },
  "language_info": {
   "codemirror_mode": {
    "name": "ipython",
    "version": 3
   },
   "file_extension": ".py",
   "mimetype": "text/x-python",
   "name": "python",
   "nbconvert_exporter": "python",
   "pygments_lexer": "ipython3",
   "version": "3.8.5"
  }
 },
 "nbformat": 4,
 "nbformat_minor": 4
}
