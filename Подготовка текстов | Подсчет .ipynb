{
 "cells": [
  {
   "cell_type": "code",
   "execution_count": 70,
   "metadata": {},
   "outputs": [],
   "source": [
    "import os\n",
    "import re\n",
    "from tqdm import tqdm\n",
    "import pandas as pd\n",
    "import numpy as np\n",
    "import nltk"
   ]
  },
  {
   "cell_type": "code",
   "execution_count": 71,
   "metadata": {},
   "outputs": [],
   "source": [
    "#функция отделяет авторскую речь от диалогов в книгах каждого автора \n",
    "#для каждого автора создается два файла:\n",
    "#1. с диалогами из всех его книг dialog_[имя автора].txt\n",
    "#2. с авторской речью из всех его книг author_[имя автора].txt\n",
    "\n",
    "def separate_dialogs_from_author_speech(author):\n",
    "    \n",
    "    files = os.listdir(author)\n",
    "    \n",
    "    dialogs = []\n",
    "    authors_speech = []\n",
    "    \n",
    "    for file in files:\n",
    "        strfile = str(file)\n",
    "        if strfile.endswith('.txt'):\n",
    "            path = author + '/' + file\n",
    "            with open(path, 'r', encoding = 'utf-8') as t:\n",
    "                text = [line.rstrip('\\n') for line in t]\n",
    "                for string in text:\n",
    "                    if string.startswith('–'):\n",
    "                        #dashcounter = string.count('–')\n",
    "                        #if dashcounter > 1:\n",
    "                        dialogs.append(string)\n",
    "                        dialogs.append('\\n')\n",
    "                    else:\n",
    "                        if string != '':\n",
    "                            authors_speech.append(string)\n",
    "                            authors_speech.append('\\n')\n",
    "                    \n",
    "            dialog_file = 'dialog_' + author\n",
    "            author_file = 'author_' + author\n",
    "        \n",
    "            with open (dialog_file, 'w', encoding = 'utf-8') as file:\n",
    "                for i in dialogs:\n",
    "                    file.write(i)\n",
    "            with open (author_file, 'w', encoding = 'utf-8') as file:\n",
    "                for i in authors_speech:\n",
    "                    file.write(i)"
   ]
  },
  {
   "cell_type": "code",
   "execution_count": 3,
   "metadata": {},
   "outputs": [],
   "source": [
    "#функция чистит каждый файл в папке автора от аннотаций, имен авторов, обозначений глав\n",
    "\n",
    "def cleaning(author):\n",
    "    \n",
    "    files = os.listdir(author)\n",
    "    \n",
    "    for file in files:\n",
    "        strfile = str(file)\n",
    "        if strfile.endswith('.txt'):\n",
    "            path = author + '/' + file\n",
    "            with open(path, 'r', encoding = 'utf-8') as t:\n",
    "                text = t.read()\n",
    "                thetext = re.sub('Annotation\\n*.*', '', text)\n",
    "                thetext = re.sub('© .*', '', thetext)\n",
    "                thetext = re.sub('Глава \\d*', '', thetext)\n",
    "                thetext = re.sub('Анна и Сергей Литвиновы', '', thetext)\n",
    "                thetext = re.sub('Татьяна Полякова', '', thetext)\n",
    "                thetext = re.sub('Дарья Донцова', '', thetext)\n",
    "                thetext = re.sub('Евгения Горская', '', thetext)\n",
    "                thetext = re.sub('Александра Маринина', '', thetext)\n",
    "                thetext = re.sub('Татьяна УСТИНОВА', '', thetext)\n",
    "            with open(path, 'w+', encoding = 'utf-8') as t:\n",
    "                newtext = t.write(thetext)"
   ]
  },
  {
   "cell_type": "code",
   "execution_count": 4,
   "metadata": {},
   "outputs": [],
   "source": [
    "#функция считает слова во всех книгах каждого автора \n",
    "\n",
    "def word_counter(author):\n",
    "\n",
    "    files = os.listdir(author)\n",
    "    words = 0\n",
    "    \n",
    "    for file in files:\n",
    "        strfile = str(file)\n",
    "        if strfile.endswith('.txt'):\n",
    "            path = author + '/' + file\n",
    "            with open(path, 'r', encoding = 'utf-8') as t:\n",
    "                text = t.read()\n",
    "                one_file_words = len({x for x in re.findall(r'\\w+', text)})\n",
    "            words = words + one_file_words\n",
    "    \n",
    "    print(author, ': ', words)"
   ]
  },
  {
   "cell_type": "code",
   "execution_count": 5,
   "metadata": {},
   "outputs": [],
   "source": [
    "for folder in os.listdir():\n",
    "    strfolder = str(folder)\n",
    "    if not strfolder.startswith('.') and not strfolder.endswith('.ipynb'):\n",
    "        cleaning(folder)"
   ]
  },
  {
   "cell_type": "code",
   "execution_count": 24,
   "metadata": {},
   "outputs": [],
   "source": [
    "for folder in os.listdir():\n",
    "    strfolder = str(folder)\n",
    "    if not strfolder.startswith('.') and not strfolder.endswith('.ipynb'):\n",
    "        separate_dialogs_from_author_speech(folder)"
   ]
  },
  {
   "cell_type": "markdown",
   "metadata": {},
   "source": [
    "## Количество слов у каждого автора:"
   ]
  },
  {
   "cell_type": "code",
   "execution_count": 5,
   "metadata": {},
   "outputs": [
    {
     "name": "stdout",
     "output_type": "stream",
     "text": [
      "Ustinova :  739937\n",
      "corpus :  0\n",
      "Marinina :  1005699\n",
      "Litvinovy :  1006743\n",
      "Dontsova :  0\n",
      "Polyakova :  1007637\n"
     ]
    }
   ],
   "source": [
    "for folder in os.listdir():\n",
    "    if os.path.isdir(folder) and not str(folder).startswith('.'):\n",
    "        word_counter(folder)"
   ]
  },
  {
   "cell_type": "markdown",
   "metadata": {},
   "source": [
    "## Количественные показатели"
   ]
  },
  {
   "cell_type": "code",
   "execution_count": 38,
   "metadata": {},
   "outputs": [
    {
     "name": "stdout",
     "output_type": "stream",
     "text": [
      "– Спасибо, друг, – с чувством сказал убийца, поспешно откручивая колпачок с литровой ледяной бутылки нарзана. \n"
     ]
    }
   ],
   "source": [
    "string = '– Спасибо, друг, – с чувством сказал убийца, поспешно откручивая колпачок с литровой ледяной бутылки нарзана. – Выручил ты меня. А что это ты с шариком делаешь?'\n",
    "speech = re.search('(–\\w*\\s*)(–.*–*)(.*)', string)\n",
    "print(speech.group(1))"
   ]
  },
  {
   "cell_type": "code",
   "execution_count": 59,
   "metadata": {},
   "outputs": [],
   "source": [
    "def count_everything(file):\n",
    "    with open(file, 'r', encoding = 'utf-8') as t:\n",
    "        text = t.read()\n",
    "        split_regex = re.compile(r'[.|!|?|…|:|,|\\n]')\n",
    "        lenghts = []\n",
    "        exclamations = 0\n",
    "        questions = 0\n",
    "        for string in text.split('\\n'):\n",
    "            string = string.replace('–', '')\n",
    "            replicas = filter(lambda t: t, [t.strip() for t in split_regex.split(string)])\n",
    "            for replica in replicas:\n",
    "                len_replica = len(replica.split(' '))\n",
    "                lenghts.append(len_replica)\n",
    "            r = [t for t in split_regex.split(string)]\n",
    "            for replica in r:\n",
    "                if replica.endswith('!'):\n",
    "                    exclamations + 1\n",
    "                if replica.endswith('?'):\n",
    "                    questions + 1\n",
    "        count_words = len([x for x in re.findall(r'\\w+', text)])\n",
    "        every_punct = []\n",
    "        punct = ['.', '!', '?', ':', ',']\n",
    "        for i in text:\n",
    "            for p in punct:\n",
    "                if i in p:\n",
    "                    every_punct.append(i)\n",
    "        count_punct = len(every_punct)\n",
    "        words_vs_punct = round(count_words / count_punct, 2)\n",
    "        main_length = round(sum(lenghts) / len(lenghts), 2)\n",
    "        #print(file, '\\n', 'количество слов:', count_words,  '\\n', 'ср. длина фразы:', main_length,  '\\n', \n",
    "              #'соотношение слов и знаков препинания:', words_vs_punct, '\\n', 'доля вопросительных реплик:', questions, '\\n',\n",
    "              #'доля восклицательных реплик:', exclamations, '\\n',\n",
    "              #'\\n\\n',)\n",
    "        result = [file, count_words, main_length, words_vs_punct, questions, exclamations]\n",
    "        return result"
   ]
  },
  {
   "cell_type": "code",
   "execution_count": 61,
   "metadata": {},
   "outputs": [
    {
     "name": "stdout",
     "output_type": "stream",
     "text": [
      "['./corpus/dialog_Litvinovy', 1066781, 3.38, 3.4, 0, 0]\n",
      "['./corpus/dialog_Litvinovy', 1066781, 3.38, 3.4, 0, 0]\n",
      "['./corpus/dialog_Marinina', 1622804, 3.93, 4.01, 0, 0]\n",
      "['./corpus/dialog_Ustinova', 1090179, 3.41, 3.37, 0, 0]\n",
      "['./corpus/author_Polyakova', 3285514, 4.27, 4.21, 0, 0]\n",
      "['./corpus/dialog_Polyakova', 1584808, 3.53, 3.67, 0, 0]\n",
      "['./corpus/author_Ustinova', 2247227, 4.52, 4.36, 0, 0]\n",
      "['./corpus/author_Marinina', 3220125, 4.85, 4.86, 0, 0]\n",
      "['./corpus/author_Litvinovy', 2533700, 4.5, 4.52, 0, 0]\n"
     ]
    }
   ],
   "source": [
    "files = os.listdir('./corpus/')\n",
    "for_df = []\n",
    "for file in files: \n",
    "    path = './corpus/' + file\n",
    "    if not file.startswith('.'):\n",
    "        result = count_everything(path)\n",
    "    for_df.append(result)\n",
    "    print(result)\n",
    "df = pd.DataFrame(for_df, \n",
    "columns=['название файла', 'количество слов','ср. длина фразы', 'соотношение слов и знаков препинания', 'доля вопросительных реплик', 'доля восклицательных реплик'])"
   ]
  },
  {
   "cell_type": "code",
   "execution_count": 62,
   "metadata": {},
   "outputs": [
    {
     "data": {
      "text/html": [
       "<div>\n",
       "<style scoped>\n",
       "    .dataframe tbody tr th:only-of-type {\n",
       "        vertical-align: middle;\n",
       "    }\n",
       "\n",
       "    .dataframe tbody tr th {\n",
       "        vertical-align: top;\n",
       "    }\n",
       "\n",
       "    .dataframe thead th {\n",
       "        text-align: right;\n",
       "    }\n",
       "</style>\n",
       "<table border=\"1\" class=\"dataframe\">\n",
       "  <thead>\n",
       "    <tr style=\"text-align: right;\">\n",
       "      <th></th>\n",
       "      <th>название файла</th>\n",
       "      <th>количество слов</th>\n",
       "      <th>ср. длина фразы</th>\n",
       "      <th>соотношение слов и знаков препинания</th>\n",
       "      <th>доля вопросительных реплик</th>\n",
       "      <th>доля восклицательных реплик</th>\n",
       "    </tr>\n",
       "  </thead>\n",
       "  <tbody>\n",
       "    <tr>\n",
       "      <th>0</th>\n",
       "      <td>./corpus/dialog_Litvinovy</td>\n",
       "      <td>1066781</td>\n",
       "      <td>3.38</td>\n",
       "      <td>3.40</td>\n",
       "      <td>0</td>\n",
       "      <td>0</td>\n",
       "    </tr>\n",
       "    <tr>\n",
       "      <th>1</th>\n",
       "      <td>./corpus/dialog_Litvinovy</td>\n",
       "      <td>1066781</td>\n",
       "      <td>3.38</td>\n",
       "      <td>3.40</td>\n",
       "      <td>0</td>\n",
       "      <td>0</td>\n",
       "    </tr>\n",
       "    <tr>\n",
       "      <th>2</th>\n",
       "      <td>./corpus/dialog_Marinina</td>\n",
       "      <td>1622804</td>\n",
       "      <td>3.93</td>\n",
       "      <td>4.01</td>\n",
       "      <td>0</td>\n",
       "      <td>0</td>\n",
       "    </tr>\n",
       "    <tr>\n",
       "      <th>3</th>\n",
       "      <td>./corpus/dialog_Ustinova</td>\n",
       "      <td>1090179</td>\n",
       "      <td>3.41</td>\n",
       "      <td>3.37</td>\n",
       "      <td>0</td>\n",
       "      <td>0</td>\n",
       "    </tr>\n",
       "    <tr>\n",
       "      <th>4</th>\n",
       "      <td>./corpus/author_Polyakova</td>\n",
       "      <td>3285514</td>\n",
       "      <td>4.27</td>\n",
       "      <td>4.21</td>\n",
       "      <td>0</td>\n",
       "      <td>0</td>\n",
       "    </tr>\n",
       "    <tr>\n",
       "      <th>5</th>\n",
       "      <td>./corpus/dialog_Polyakova</td>\n",
       "      <td>1584808</td>\n",
       "      <td>3.53</td>\n",
       "      <td>3.67</td>\n",
       "      <td>0</td>\n",
       "      <td>0</td>\n",
       "    </tr>\n",
       "    <tr>\n",
       "      <th>6</th>\n",
       "      <td>./corpus/author_Ustinova</td>\n",
       "      <td>2247227</td>\n",
       "      <td>4.52</td>\n",
       "      <td>4.36</td>\n",
       "      <td>0</td>\n",
       "      <td>0</td>\n",
       "    </tr>\n",
       "    <tr>\n",
       "      <th>7</th>\n",
       "      <td>./corpus/author_Marinina</td>\n",
       "      <td>3220125</td>\n",
       "      <td>4.85</td>\n",
       "      <td>4.86</td>\n",
       "      <td>0</td>\n",
       "      <td>0</td>\n",
       "    </tr>\n",
       "    <tr>\n",
       "      <th>8</th>\n",
       "      <td>./corpus/author_Litvinovy</td>\n",
       "      <td>2533700</td>\n",
       "      <td>4.50</td>\n",
       "      <td>4.52</td>\n",
       "      <td>0</td>\n",
       "      <td>0</td>\n",
       "    </tr>\n",
       "  </tbody>\n",
       "</table>\n",
       "</div>"
      ],
      "text/plain": [
       "              название файла  количество слов  ср. длина фразы  \\\n",
       "0  ./corpus/dialog_Litvinovy          1066781             3.38   \n",
       "1  ./corpus/dialog_Litvinovy          1066781             3.38   \n",
       "2   ./corpus/dialog_Marinina          1622804             3.93   \n",
       "3   ./corpus/dialog_Ustinova          1090179             3.41   \n",
       "4  ./corpus/author_Polyakova          3285514             4.27   \n",
       "5  ./corpus/dialog_Polyakova          1584808             3.53   \n",
       "6   ./corpus/author_Ustinova          2247227             4.52   \n",
       "7   ./corpus/author_Marinina          3220125             4.85   \n",
       "8  ./corpus/author_Litvinovy          2533700             4.50   \n",
       "\n",
       "   соотношение слов и знаков препинания  доля вопросительных реплик  \\\n",
       "0                                  3.40                           0   \n",
       "1                                  3.40                           0   \n",
       "2                                  4.01                           0   \n",
       "3                                  3.37                           0   \n",
       "4                                  4.21                           0   \n",
       "5                                  3.67                           0   \n",
       "6                                  4.36                           0   \n",
       "7                                  4.86                           0   \n",
       "8                                  4.52                           0   \n",
       "\n",
       "   доля восклицательных реплик  \n",
       "0                            0  \n",
       "1                            0  \n",
       "2                            0  \n",
       "3                            0  \n",
       "4                            0  \n",
       "5                            0  \n",
       "6                            0  \n",
       "7                            0  \n",
       "8                            0  "
      ]
     },
     "execution_count": 62,
     "metadata": {},
     "output_type": "execute_result"
    }
   ],
   "source": [
    "df"
   ]
  },
  {
   "cell_type": "code",
   "execution_count": 63,
   "metadata": {},
   "outputs": [],
   "source": [
    "df.to_csv('first_results.csv')"
   ]
  }
 ],
 "metadata": {
  "kernelspec": {
   "display_name": "Python 3",
   "language": "python",
   "name": "python3"
  },
  "language_info": {
   "codemirror_mode": {
    "name": "ipython",
    "version": 3
   },
   "file_extension": ".py",
   "mimetype": "text/x-python",
   "name": "python",
   "nbconvert_exporter": "python",
   "pygments_lexer": "ipython3",
   "version": "3.8.5"
  }
 },
 "nbformat": 4,
 "nbformat_minor": 4
}
