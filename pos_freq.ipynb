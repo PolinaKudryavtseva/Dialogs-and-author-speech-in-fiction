{
  "nbformat": 4,
  "nbformat_minor": 0,
  "metadata": {
    "colab": {
      "name": "pos_freq.ipynb",
      "provenance": [],
      "collapsed_sections": []
    },
    "kernelspec": {
      "name": "python3",
      "display_name": "Python 3"
    }
  },
  "cells": [
    {
      "cell_type": "code",
      "metadata": {
        "colab": {
          "base_uri": "https://localhost:8080/"
        },
        "id": "lzIfwJGcsxnl",
        "outputId": "a2177cfa-5665-4ffc-91e8-80bb10a36a87"
      },
      "source": [
        "! pip install pymorphy2"
      ],
      "execution_count": null,
      "outputs": [
        {
          "output_type": "stream",
          "text": [
            "Collecting pymorphy2\n",
            "\u001b[?25l  Downloading https://files.pythonhosted.org/packages/07/57/b2ff2fae3376d4f3c697b9886b64a54b476e1a332c67eee9f88e7f1ae8c9/pymorphy2-0.9.1-py3-none-any.whl (55kB)\n",
            "\r\u001b[K     |██████                          | 10kB 11.3MB/s eta 0:00:01\r\u001b[K     |███████████▉                    | 20kB 16.3MB/s eta 0:00:01\r\u001b[K     |█████████████████▊              | 30kB 20.3MB/s eta 0:00:01\r\u001b[K     |███████████████████████▋        | 40kB 11.6MB/s eta 0:00:01\r\u001b[K     |█████████████████████████████▌  | 51kB 9.4MB/s eta 0:00:01\r\u001b[K     |████████████████████████████████| 61kB 4.2MB/s \n",
            "\u001b[?25hRequirement already satisfied: docopt>=0.6 in /usr/local/lib/python3.6/dist-packages (from pymorphy2) (0.6.2)\n",
            "Collecting pymorphy2-dicts-ru<3.0,>=2.4\n",
            "\u001b[?25l  Downloading https://files.pythonhosted.org/packages/3a/79/bea0021eeb7eeefde22ef9e96badf174068a2dd20264b9a378f2be1cdd9e/pymorphy2_dicts_ru-2.4.417127.4579844-py2.py3-none-any.whl (8.2MB)\n",
            "\u001b[K     |████████████████████████████████| 8.2MB 9.7MB/s \n",
            "\u001b[?25hCollecting dawg-python>=0.7.1\n",
            "  Downloading https://files.pythonhosted.org/packages/6a/84/ff1ce2071d4c650ec85745766c0047ccc3b5036f1d03559fd46bb38b5eeb/DAWG_Python-0.7.2-py2.py3-none-any.whl\n",
            "Installing collected packages: pymorphy2-dicts-ru, dawg-python, pymorphy2\n",
            "Successfully installed dawg-python-0.7.2 pymorphy2-0.9.1 pymorphy2-dicts-ru-2.4.417127.4579844\n"
          ],
          "name": "stdout"
        }
      ]
    },
    {
      "cell_type": "code",
      "metadata": {
        "colab": {
          "base_uri": "https://localhost:8080/"
        },
        "id": "qIFPcS9wspOU",
        "outputId": "4d7a8bcb-375d-4871-9e70-0ca0a0a668e4"
      },
      "source": [
        "import nltk\n",
        "from nltk.tokenize import word_tokenize\n",
        "\n",
        "from pymorphy2 import MorphAnalyzer\n",
        "morph = MorphAnalyzer()\n",
        "\n",
        "from collections import Counter\n",
        "import collections\n",
        "\n",
        "import nltk\n",
        "nltk.download('punkt')\n",
        "\n",
        "from tqdm import tqdm\n",
        "\n",
        "import pandas as pd"
      ],
      "execution_count": null,
      "outputs": [
        {
          "output_type": "stream",
          "text": [
            "[nltk_data] Downloading package punkt to /root/nltk_data...\n",
            "[nltk_data]   Package punkt is already up-to-date!\n"
          ],
          "name": "stdout"
        }
      ]
    },
    {
      "cell_type": "code",
      "metadata": {
        "id": "Zogv-F-Ms852"
      },
      "source": [
        "def pos_frequency(file):\n",
        "    with open(file, 'r', encoding='utf-8') as t:\n",
        "        text = t.read()\n",
        "        tokens = word_tokenize(text)\n",
        "        words = [w for w in tokens if w.isalpha()]\n",
        "\n",
        "        lemmas = []\n",
        "\n",
        "        for i in tqdm(words):\n",
        "            analise = morph.parse(i)\n",
        "            lemmas.append(analise)\n",
        "            \n",
        "        forms_from_text = []\n",
        "        for lemma in lemmas:\n",
        "            one = lemma[0]\n",
        "            form = [one.normal_form, one.tag.POS]\n",
        "            forms_from_text.append(form)\n",
        "\n",
        "        pos = []\n",
        "        freq = []\n",
        "\n",
        "        counter_of_forms = collections.Counter()\n",
        "        allf = 0\n",
        "        for i in forms_from_text:\n",
        "            allf = allf + 1\n",
        "            form = i[1]\n",
        "            counter_of_forms[form] += 1\n",
        "\n",
        "        return counter_of_forms"
      ],
      "execution_count": null,
      "outputs": []
    },
    {
      "cell_type": "code",
      "metadata": {
        "id": "vhTXRHRLuEpO",
        "colab": {
          "base_uri": "https://localhost:8080/"
        },
        "outputId": "d6c3d46d-2556-4dc9-9fe2-ac326ced0fd8"
      },
      "source": [
        "a_Litvinovy = pos_frequency('/content/drive/MyDrive/Colab Notebooks/Курсовая/author_Litvinovy')"
      ],
      "execution_count": null,
      "outputs": [
        {
          "output_type": "stream",
          "text": [
            "100%|██████████| 2459154/2459154 [11:23<00:00, 3600.13it/s]\n"
          ],
          "name": "stderr"
        }
      ]
    },
    {
      "cell_type": "code",
      "metadata": {
        "id": "FzKU_oFLyMeg",
        "colab": {
          "base_uri": "https://localhost:8080/"
        },
        "outputId": "8b30fa7f-8b36-4d46-a06c-828d84adde2a"
      },
      "source": [
        "a_Marinina = pos_frequency('/content/drive/MyDrive/Colab Notebooks/Курсовая/author_Marinina')\n",
        "a_Polyakova = pos_frequency('/content/drive/MyDrive/Colab Notebooks/Курсовая/author_Polyakova')\n",
        "a_Ustinova = pos_frequency('/content/drive/MyDrive/Colab Notebooks/Курсовая/author_Ustinova')"
      ],
      "execution_count": null,
      "outputs": [
        {
          "output_type": "stream",
          "text": [
            "100%|██████████| 3141686/3141686 [14:21<00:00, 3647.19it/s]\n",
            "100%|██████████| 3199281/3199281 [13:46<00:00, 3872.86it/s]\n",
            "100%|██████████| 2183784/2183784 [09:47<00:00, 3720.13it/s]\n"
          ],
          "name": "stderr"
        }
      ]
    },
    {
      "cell_type": "code",
      "metadata": {
        "id": "IxzpMnEHybnC",
        "colab": {
          "base_uri": "https://localhost:8080/"
        },
        "outputId": "e2a23d1d-1b87-44d3-ca65-994bf6814373"
      },
      "source": [
        "d_Litvinovy = pos_frequency('/content/drive/MyDrive/Colab Notebooks/Курсовая/dialog_Litvinovy')\n",
        "d_Marinina = pos_frequency('/content/drive/MyDrive/Colab Notebooks/Курсовая/dialog_Marinina')\n",
        "d_Ustinova = pos_frequency('/content/drive/MyDrive/Colab Notebooks/Курсовая/dialog_Ustinova')\n",
        "d_Polyakova = pos_frequency('/content/drive/MyDrive/Colab Notebooks/Курсовая/dialog_Polyakova')"
      ],
      "execution_count": null,
      "outputs": [
        {
          "output_type": "stream",
          "text": [
            "100%|██████████| 1025725/1025725 [04:07<00:00, 4140.80it/s]\n",
            "100%|██████████| 1581543/1581543 [06:31<00:00, 4040.96it/s]\n",
            "100%|██████████| 1051378/1051378 [04:27<00:00, 3928.33it/s]\n",
            "100%|██████████| 1530105/1530105 [06:13<00:00, 4094.43it/s]\n"
          ],
          "name": "stderr"
        }
      ]
    },
    {
      "cell_type": "code",
      "metadata": {
        "colab": {
          "base_uri": "https://localhost:8080/",
          "height": 593
        },
        "id": "EfDKATOPSYJi",
        "outputId": "019d1271-0b0a-437d-c310-44146acff715"
      },
      "source": [
        "df_aL = pd.DataFrame(a_Litvinovy.values(), a_Litvinovy.keys())\n",
        "print('Литвиновы: авторская речь')\n",
        "df_aL.to_csv('Litvinovy_author.csv')\n",
        "df_aL"
      ],
      "execution_count": null,
      "outputs": [
        {
          "output_type": "stream",
          "text": [
            "Литвиновы: авторская речь\n"
          ],
          "name": "stdout"
        },
        {
          "output_type": "execute_result",
          "data": {
            "text/html": [
              "<div>\n",
              "<style scoped>\n",
              "    .dataframe tbody tr th:only-of-type {\n",
              "        vertical-align: middle;\n",
              "    }\n",
              "\n",
              "    .dataframe tbody tr th {\n",
              "        vertical-align: top;\n",
              "    }\n",
              "\n",
              "    .dataframe thead th {\n",
              "        text-align: right;\n",
              "    }\n",
              "</style>\n",
              "<table border=\"1\" class=\"dataframe\">\n",
              "  <thead>\n",
              "    <tr style=\"text-align: right;\">\n",
              "      <th></th>\n",
              "      <th>0</th>\n",
              "    </tr>\n",
              "  </thead>\n",
              "  <tbody>\n",
              "    <tr>\n",
              "      <th>NOUN</th>\n",
              "      <td>671993</td>\n",
              "    </tr>\n",
              "    <tr>\n",
              "      <th>PREP</th>\n",
              "      <td>281985</td>\n",
              "    </tr>\n",
              "    <tr>\n",
              "      <th>ADJF</th>\n",
              "      <td>266300</td>\n",
              "    </tr>\n",
              "    <tr>\n",
              "      <th>VERB</th>\n",
              "      <td>339921</td>\n",
              "    </tr>\n",
              "    <tr>\n",
              "      <th>PRCL</th>\n",
              "      <td>132602</td>\n",
              "    </tr>\n",
              "    <tr>\n",
              "      <th>NPRO</th>\n",
              "      <td>160879</td>\n",
              "    </tr>\n",
              "    <tr>\n",
              "      <th>CONJ</th>\n",
              "      <td>254673</td>\n",
              "    </tr>\n",
              "    <tr>\n",
              "      <th>ADVB</th>\n",
              "      <td>184629</td>\n",
              "    </tr>\n",
              "    <tr>\n",
              "      <th>INFN</th>\n",
              "      <td>69072</td>\n",
              "    </tr>\n",
              "    <tr>\n",
              "      <th>PRTF</th>\n",
              "      <td>20878</td>\n",
              "    </tr>\n",
              "    <tr>\n",
              "      <th>NUMR</th>\n",
              "      <td>19726</td>\n",
              "    </tr>\n",
              "    <tr>\n",
              "      <th>ADJS</th>\n",
              "      <td>14925</td>\n",
              "    </tr>\n",
              "    <tr>\n",
              "      <th>PRED</th>\n",
              "      <td>10471</td>\n",
              "    </tr>\n",
              "    <tr>\n",
              "      <th>PRTS</th>\n",
              "      <td>6107</td>\n",
              "    </tr>\n",
              "    <tr>\n",
              "      <th>COMP</th>\n",
              "      <td>10414</td>\n",
              "    </tr>\n",
              "    <tr>\n",
              "      <th>GRND</th>\n",
              "      <td>9835</td>\n",
              "    </tr>\n",
              "    <tr>\n",
              "      <th>INTJ</th>\n",
              "      <td>2482</td>\n",
              "    </tr>\n",
              "  </tbody>\n",
              "</table>\n",
              "</div>"
            ],
            "text/plain": [
              "           0\n",
              "NOUN  671993\n",
              "PREP  281985\n",
              "ADJF  266300\n",
              "VERB  339921\n",
              "PRCL  132602\n",
              "NPRO  160879\n",
              "CONJ  254673\n",
              "ADVB  184629\n",
              "INFN   69072\n",
              "PRTF   20878\n",
              "NUMR   19726\n",
              "ADJS   14925\n",
              "PRED   10471\n",
              "PRTS    6107\n",
              "COMP   10414\n",
              "GRND    9835\n",
              "INTJ    2482"
            ]
          },
          "metadata": {
            "tags": []
          },
          "execution_count": 80
        }
      ]
    },
    {
      "cell_type": "code",
      "metadata": {
        "colab": {
          "base_uri": "https://localhost:8080/",
          "height": 593
        },
        "id": "qQJuX6-4VysL",
        "outputId": "4fbdb611-03fe-4f69-c32b-1fab5852cb7f"
      },
      "source": [
        "df_dL = pd.DataFrame(d_Litvinovy.values(), d_Litvinovy.keys())\n",
        "print('Литвиновы: прямая речь')\n",
        "df_dL.to_csv('Litvinovy_dialog.csv')\n",
        "df_dL"
      ],
      "execution_count": null,
      "outputs": [
        {
          "output_type": "stream",
          "text": [
            "Литвиновы: прямая речь\n"
          ],
          "name": "stdout"
        },
        {
          "output_type": "execute_result",
          "data": {
            "text/html": [
              "<div>\n",
              "<style scoped>\n",
              "    .dataframe tbody tr th:only-of-type {\n",
              "        vertical-align: middle;\n",
              "    }\n",
              "\n",
              "    .dataframe tbody tr th {\n",
              "        vertical-align: top;\n",
              "    }\n",
              "\n",
              "    .dataframe thead th {\n",
              "        text-align: right;\n",
              "    }\n",
              "</style>\n",
              "<table border=\"1\" class=\"dataframe\">\n",
              "  <thead>\n",
              "    <tr style=\"text-align: right;\">\n",
              "      <th></th>\n",
              "      <th>0</th>\n",
              "    </tr>\n",
              "  </thead>\n",
              "  <tbody>\n",
              "    <tr>\n",
              "      <th>NOUN</th>\n",
              "      <td>233123</td>\n",
              "    </tr>\n",
              "    <tr>\n",
              "      <th>ADJF</th>\n",
              "      <td>85451</td>\n",
              "    </tr>\n",
              "    <tr>\n",
              "      <th>VERB</th>\n",
              "      <td>167322</td>\n",
              "    </tr>\n",
              "    <tr>\n",
              "      <th>NPRO</th>\n",
              "      <td>116065</td>\n",
              "    </tr>\n",
              "    <tr>\n",
              "      <th>ADVB</th>\n",
              "      <td>79131</td>\n",
              "    </tr>\n",
              "    <tr>\n",
              "      <th>PRCL</th>\n",
              "      <td>74402</td>\n",
              "    </tr>\n",
              "    <tr>\n",
              "      <th>ADJS</th>\n",
              "      <td>8186</td>\n",
              "    </tr>\n",
              "    <tr>\n",
              "      <th>PREP</th>\n",
              "      <td>95340</td>\n",
              "    </tr>\n",
              "    <tr>\n",
              "      <th>CONJ</th>\n",
              "      <td>104504</td>\n",
              "    </tr>\n",
              "    <tr>\n",
              "      <th>INFN</th>\n",
              "      <td>29036</td>\n",
              "    </tr>\n",
              "    <tr>\n",
              "      <th>COMP</th>\n",
              "      <td>4411</td>\n",
              "    </tr>\n",
              "    <tr>\n",
              "      <th>INTJ</th>\n",
              "      <td>3148</td>\n",
              "    </tr>\n",
              "    <tr>\n",
              "      <th>PRTF</th>\n",
              "      <td>3158</td>\n",
              "    </tr>\n",
              "    <tr>\n",
              "      <th>NUMR</th>\n",
              "      <td>7661</td>\n",
              "    </tr>\n",
              "    <tr>\n",
              "      <th>PRED</th>\n",
              "      <td>8309</td>\n",
              "    </tr>\n",
              "    <tr>\n",
              "      <th>GRND</th>\n",
              "      <td>2602</td>\n",
              "    </tr>\n",
              "    <tr>\n",
              "      <th>PRTS</th>\n",
              "      <td>2279</td>\n",
              "    </tr>\n",
              "  </tbody>\n",
              "</table>\n",
              "</div>"
            ],
            "text/plain": [
              "           0\n",
              "NOUN  233123\n",
              "ADJF   85451\n",
              "VERB  167322\n",
              "NPRO  116065\n",
              "ADVB   79131\n",
              "PRCL   74402\n",
              "ADJS    8186\n",
              "PREP   95340\n",
              "CONJ  104504\n",
              "INFN   29036\n",
              "COMP    4411\n",
              "INTJ    3148\n",
              "PRTF    3158\n",
              "NUMR    7661\n",
              "PRED    8309\n",
              "GRND    2602\n",
              "PRTS    2279"
            ]
          },
          "metadata": {
            "tags": []
          },
          "execution_count": 81
        }
      ]
    },
    {
      "cell_type": "code",
      "metadata": {
        "colab": {
          "base_uri": "https://localhost:8080/",
          "height": 593
        },
        "id": "ciZqruThV94H",
        "outputId": "90f0b1fe-0946-4956-c547-fded52425d2a"
      },
      "source": [
        "df_aM = pd.DataFrame(a_Marinina.values(), a_Marinina.keys())\n",
        "print('Маринина: авторская речь')\n",
        "df_aM.to_csv('Marinina_author.csv')\n",
        "df_aM"
      ],
      "execution_count": null,
      "outputs": [
        {
          "output_type": "stream",
          "text": [
            "Маринина: авторская речь\n"
          ],
          "name": "stdout"
        },
        {
          "output_type": "execute_result",
          "data": {
            "text/html": [
              "<div>\n",
              "<style scoped>\n",
              "    .dataframe tbody tr th:only-of-type {\n",
              "        vertical-align: middle;\n",
              "    }\n",
              "\n",
              "    .dataframe tbody tr th {\n",
              "        vertical-align: top;\n",
              "    }\n",
              "\n",
              "    .dataframe thead th {\n",
              "        text-align: right;\n",
              "    }\n",
              "</style>\n",
              "<table border=\"1\" class=\"dataframe\">\n",
              "  <thead>\n",
              "    <tr style=\"text-align: right;\">\n",
              "      <th></th>\n",
              "      <th>0</th>\n",
              "    </tr>\n",
              "  </thead>\n",
              "  <tbody>\n",
              "    <tr>\n",
              "      <th>NOUN</th>\n",
              "      <td>777054</td>\n",
              "    </tr>\n",
              "    <tr>\n",
              "      <th>CONJ</th>\n",
              "      <td>361895</td>\n",
              "    </tr>\n",
              "    <tr>\n",
              "      <th>PREP</th>\n",
              "      <td>329526</td>\n",
              "    </tr>\n",
              "    <tr>\n",
              "      <th>ADJF</th>\n",
              "      <td>317092</td>\n",
              "    </tr>\n",
              "    <tr>\n",
              "      <th>NPRO</th>\n",
              "      <td>246124</td>\n",
              "    </tr>\n",
              "    <tr>\n",
              "      <th>ADVB</th>\n",
              "      <td>233016</td>\n",
              "    </tr>\n",
              "    <tr>\n",
              "      <th>INFN</th>\n",
              "      <td>118962</td>\n",
              "    </tr>\n",
              "    <tr>\n",
              "      <th>VERB</th>\n",
              "      <td>413155</td>\n",
              "    </tr>\n",
              "    <tr>\n",
              "      <th>PRTF</th>\n",
              "      <td>26996</td>\n",
              "    </tr>\n",
              "    <tr>\n",
              "      <th>PRCL</th>\n",
              "      <td>204313</td>\n",
              "    </tr>\n",
              "    <tr>\n",
              "      <th>ADJS</th>\n",
              "      <td>22681</td>\n",
              "    </tr>\n",
              "    <tr>\n",
              "      <th>GRND</th>\n",
              "      <td>20091</td>\n",
              "    </tr>\n",
              "    <tr>\n",
              "      <th>COMP</th>\n",
              "      <td>13946</td>\n",
              "    </tr>\n",
              "    <tr>\n",
              "      <th>PRED</th>\n",
              "      <td>23717</td>\n",
              "    </tr>\n",
              "    <tr>\n",
              "      <th>NUMR</th>\n",
              "      <td>21044</td>\n",
              "    </tr>\n",
              "    <tr>\n",
              "      <th>PRTS</th>\n",
              "      <td>9339</td>\n",
              "    </tr>\n",
              "    <tr>\n",
              "      <th>INTJ</th>\n",
              "      <td>2167</td>\n",
              "    </tr>\n",
              "  </tbody>\n",
              "</table>\n",
              "</div>"
            ],
            "text/plain": [
              "           0\n",
              "NOUN  777054\n",
              "CONJ  361895\n",
              "PREP  329526\n",
              "ADJF  317092\n",
              "NPRO  246124\n",
              "ADVB  233016\n",
              "INFN  118962\n",
              "VERB  413155\n",
              "PRTF   26996\n",
              "PRCL  204313\n",
              "ADJS   22681\n",
              "GRND   20091\n",
              "COMP   13946\n",
              "PRED   23717\n",
              "NUMR   21044\n",
              "PRTS    9339\n",
              "INTJ    2167"
            ]
          },
          "metadata": {
            "tags": []
          },
          "execution_count": 82
        }
      ]
    },
    {
      "cell_type": "code",
      "metadata": {
        "colab": {
          "base_uri": "https://localhost:8080/",
          "height": 593
        },
        "id": "AW5oAQrPWD6b",
        "outputId": "9c80eb20-bc56-43ad-e819-7abe8a19311f"
      },
      "source": [
        "df_dM = pd.DataFrame(d_Marinina.values(), d_Marinina.keys())\n",
        "print('Маринина: прямая речь')\n",
        "df_dM.to_csv('Marinina_dialog.csv')\n",
        "df_dM"
      ],
      "execution_count": null,
      "outputs": [
        {
          "output_type": "stream",
          "text": [
            "Маринина: прямая речь\n"
          ],
          "name": "stdout"
        },
        {
          "output_type": "execute_result",
          "data": {
            "text/html": [
              "<div>\n",
              "<style scoped>\n",
              "    .dataframe tbody tr th:only-of-type {\n",
              "        vertical-align: middle;\n",
              "    }\n",
              "\n",
              "    .dataframe tbody tr th {\n",
              "        vertical-align: top;\n",
              "    }\n",
              "\n",
              "    .dataframe thead th {\n",
              "        text-align: right;\n",
              "    }\n",
              "</style>\n",
              "<table border=\"1\" class=\"dataframe\">\n",
              "  <thead>\n",
              "    <tr style=\"text-align: right;\">\n",
              "      <th></th>\n",
              "      <th>0</th>\n",
              "    </tr>\n",
              "  </thead>\n",
              "  <tbody>\n",
              "    <tr>\n",
              "      <th>ADVB</th>\n",
              "      <td>119863</td>\n",
              "    </tr>\n",
              "    <tr>\n",
              "      <th>NOUN</th>\n",
              "      <td>322226</td>\n",
              "    </tr>\n",
              "    <tr>\n",
              "      <th>VERB</th>\n",
              "      <td>239992</td>\n",
              "    </tr>\n",
              "    <tr>\n",
              "      <th>PREP</th>\n",
              "      <td>141774</td>\n",
              "    </tr>\n",
              "    <tr>\n",
              "      <th>NPRO</th>\n",
              "      <td>190312</td>\n",
              "    </tr>\n",
              "    <tr>\n",
              "      <th>GRND</th>\n",
              "      <td>5490</td>\n",
              "    </tr>\n",
              "    <tr>\n",
              "      <th>PRTF</th>\n",
              "      <td>4858</td>\n",
              "    </tr>\n",
              "    <tr>\n",
              "      <th>ADJF</th>\n",
              "      <td>131785</td>\n",
              "    </tr>\n",
              "    <tr>\n",
              "      <th>CONJ</th>\n",
              "      <td>182670</td>\n",
              "    </tr>\n",
              "    <tr>\n",
              "      <th>INFN</th>\n",
              "      <td>61048</td>\n",
              "    </tr>\n",
              "    <tr>\n",
              "      <th>PRCL</th>\n",
              "      <td>126835</td>\n",
              "    </tr>\n",
              "    <tr>\n",
              "      <th>PRTS</th>\n",
              "      <td>4419</td>\n",
              "    </tr>\n",
              "    <tr>\n",
              "      <th>ADJS</th>\n",
              "      <td>14419</td>\n",
              "    </tr>\n",
              "    <tr>\n",
              "      <th>INTJ</th>\n",
              "      <td>2283</td>\n",
              "    </tr>\n",
              "    <tr>\n",
              "      <th>PRED</th>\n",
              "      <td>15894</td>\n",
              "    </tr>\n",
              "    <tr>\n",
              "      <th>COMP</th>\n",
              "      <td>7397</td>\n",
              "    </tr>\n",
              "    <tr>\n",
              "      <th>NUMR</th>\n",
              "      <td>10113</td>\n",
              "    </tr>\n",
              "  </tbody>\n",
              "</table>\n",
              "</div>"
            ],
            "text/plain": [
              "           0\n",
              "ADVB  119863\n",
              "NOUN  322226\n",
              "VERB  239992\n",
              "PREP  141774\n",
              "NPRO  190312\n",
              "GRND    5490\n",
              "PRTF    4858\n",
              "ADJF  131785\n",
              "CONJ  182670\n",
              "INFN   61048\n",
              "PRCL  126835\n",
              "PRTS    4419\n",
              "ADJS   14419\n",
              "INTJ    2283\n",
              "PRED   15894\n",
              "COMP    7397\n",
              "NUMR   10113"
            ]
          },
          "metadata": {
            "tags": []
          },
          "execution_count": 83
        }
      ]
    },
    {
      "cell_type": "code",
      "metadata": {
        "colab": {
          "base_uri": "https://localhost:8080/",
          "height": 593
        },
        "id": "QxuFVdY2WJNF",
        "outputId": "16537444-208d-4232-a2e7-f95e8810c073"
      },
      "source": [
        "df_aU = pd.DataFrame(a_Ustinova.values(), a_Ustinova.keys())\n",
        "print('Устинова: авторская речь')\n",
        "df_aU.to_csv('Ustinova_author.csv')\n",
        "df_aU"
      ],
      "execution_count": null,
      "outputs": [
        {
          "output_type": "stream",
          "text": [
            "Устинова: авторская речь\n"
          ],
          "name": "stdout"
        },
        {
          "output_type": "execute_result",
          "data": {
            "text/html": [
              "<div>\n",
              "<style scoped>\n",
              "    .dataframe tbody tr th:only-of-type {\n",
              "        vertical-align: middle;\n",
              "    }\n",
              "\n",
              "    .dataframe tbody tr th {\n",
              "        vertical-align: top;\n",
              "    }\n",
              "\n",
              "    .dataframe thead th {\n",
              "        text-align: right;\n",
              "    }\n",
              "</style>\n",
              "<table border=\"1\" class=\"dataframe\">\n",
              "  <thead>\n",
              "    <tr style=\"text-align: right;\">\n",
              "      <th></th>\n",
              "      <th>0</th>\n",
              "    </tr>\n",
              "  </thead>\n",
              "  <tbody>\n",
              "    <tr>\n",
              "      <th>NOUN</th>\n",
              "      <td>530622</td>\n",
              "    </tr>\n",
              "    <tr>\n",
              "      <th>ADJF</th>\n",
              "      <td>203561</td>\n",
              "    </tr>\n",
              "    <tr>\n",
              "      <th>VERB</th>\n",
              "      <td>330370</td>\n",
              "    </tr>\n",
              "    <tr>\n",
              "      <th>NPRO</th>\n",
              "      <td>185444</td>\n",
              "    </tr>\n",
              "    <tr>\n",
              "      <th>INFN</th>\n",
              "      <td>64439</td>\n",
              "    </tr>\n",
              "    <tr>\n",
              "      <th>CONJ</th>\n",
              "      <td>253970</td>\n",
              "    </tr>\n",
              "    <tr>\n",
              "      <th>PRCL</th>\n",
              "      <td>133321</td>\n",
              "    </tr>\n",
              "    <tr>\n",
              "      <th>PREP</th>\n",
              "      <td>223633</td>\n",
              "    </tr>\n",
              "    <tr>\n",
              "      <th>ADVB</th>\n",
              "      <td>170121</td>\n",
              "    </tr>\n",
              "    <tr>\n",
              "      <th>ADJS</th>\n",
              "      <td>15495</td>\n",
              "    </tr>\n",
              "    <tr>\n",
              "      <th>COMP</th>\n",
              "      <td>8752</td>\n",
              "    </tr>\n",
              "    <tr>\n",
              "      <th>PRTS</th>\n",
              "      <td>4919</td>\n",
              "    </tr>\n",
              "    <tr>\n",
              "      <th>PRED</th>\n",
              "      <td>12776</td>\n",
              "    </tr>\n",
              "    <tr>\n",
              "      <th>GRND</th>\n",
              "      <td>15940</td>\n",
              "    </tr>\n",
              "    <tr>\n",
              "      <th>NUMR</th>\n",
              "      <td>9066</td>\n",
              "    </tr>\n",
              "    <tr>\n",
              "      <th>PRTF</th>\n",
              "      <td>19059</td>\n",
              "    </tr>\n",
              "    <tr>\n",
              "      <th>INTJ</th>\n",
              "      <td>1517</td>\n",
              "    </tr>\n",
              "  </tbody>\n",
              "</table>\n",
              "</div>"
            ],
            "text/plain": [
              "           0\n",
              "NOUN  530622\n",
              "ADJF  203561\n",
              "VERB  330370\n",
              "NPRO  185444\n",
              "INFN   64439\n",
              "CONJ  253970\n",
              "PRCL  133321\n",
              "PREP  223633\n",
              "ADVB  170121\n",
              "ADJS   15495\n",
              "COMP    8752\n",
              "PRTS    4919\n",
              "PRED   12776\n",
              "GRND   15940\n",
              "NUMR    9066\n",
              "PRTF   19059\n",
              "INTJ    1517"
            ]
          },
          "metadata": {
            "tags": []
          },
          "execution_count": 84
        }
      ]
    },
    {
      "cell_type": "code",
      "metadata": {
        "colab": {
          "base_uri": "https://localhost:8080/",
          "height": 593
        },
        "id": "lD7QJjmRWN73",
        "outputId": "24e6bc42-2ae3-4622-eae9-0e8157be4f59"
      },
      "source": [
        "df_dU = pd.DataFrame(d_Ustinova.values(), d_Ustinova.keys())\n",
        "print('Устинова: прямая речь')\n",
        "df_dU.to_csv('Ustinova_dialog.csv')\n",
        "df_dU"
      ],
      "execution_count": null,
      "outputs": [
        {
          "output_type": "stream",
          "text": [
            "Устинова: прямая речь\n"
          ],
          "name": "stdout"
        },
        {
          "output_type": "execute_result",
          "data": {
            "text/html": [
              "<div>\n",
              "<style scoped>\n",
              "    .dataframe tbody tr th:only-of-type {\n",
              "        vertical-align: middle;\n",
              "    }\n",
              "\n",
              "    .dataframe tbody tr th {\n",
              "        vertical-align: top;\n",
              "    }\n",
              "\n",
              "    .dataframe thead th {\n",
              "        text-align: right;\n",
              "    }\n",
              "</style>\n",
              "<table border=\"1\" class=\"dataframe\">\n",
              "  <thead>\n",
              "    <tr style=\"text-align: right;\">\n",
              "      <th></th>\n",
              "      <th>0</th>\n",
              "    </tr>\n",
              "  </thead>\n",
              "  <tbody>\n",
              "    <tr>\n",
              "      <th>INFN</th>\n",
              "      <td>29823</td>\n",
              "    </tr>\n",
              "    <tr>\n",
              "      <th>PRCL</th>\n",
              "      <td>84937</td>\n",
              "    </tr>\n",
              "    <tr>\n",
              "      <th>VERB</th>\n",
              "      <td>177727</td>\n",
              "    </tr>\n",
              "    <tr>\n",
              "      <th>ADVB</th>\n",
              "      <td>82406</td>\n",
              "    </tr>\n",
              "    <tr>\n",
              "      <th>PREP</th>\n",
              "      <td>89626</td>\n",
              "    </tr>\n",
              "    <tr>\n",
              "      <th>NPRO</th>\n",
              "      <td>134789</td>\n",
              "    </tr>\n",
              "    <tr>\n",
              "      <th>NOUN</th>\n",
              "      <td>224332</td>\n",
              "    </tr>\n",
              "    <tr>\n",
              "      <th>ADJF</th>\n",
              "      <td>72053</td>\n",
              "    </tr>\n",
              "    <tr>\n",
              "      <th>PRED</th>\n",
              "      <td>10254</td>\n",
              "    </tr>\n",
              "    <tr>\n",
              "      <th>NUMR</th>\n",
              "      <td>4425</td>\n",
              "    </tr>\n",
              "    <tr>\n",
              "      <th>CONJ</th>\n",
              "      <td>115646</td>\n",
              "    </tr>\n",
              "    <tr>\n",
              "      <th>PRTF</th>\n",
              "      <td>3106</td>\n",
              "    </tr>\n",
              "    <tr>\n",
              "      <th>GRND</th>\n",
              "      <td>5810</td>\n",
              "    </tr>\n",
              "    <tr>\n",
              "      <th>ADJS</th>\n",
              "      <td>7477</td>\n",
              "    </tr>\n",
              "    <tr>\n",
              "      <th>COMP</th>\n",
              "      <td>4309</td>\n",
              "    </tr>\n",
              "    <tr>\n",
              "      <th>PRTS</th>\n",
              "      <td>1840</td>\n",
              "    </tr>\n",
              "    <tr>\n",
              "      <th>INTJ</th>\n",
              "      <td>2393</td>\n",
              "    </tr>\n",
              "  </tbody>\n",
              "</table>\n",
              "</div>"
            ],
            "text/plain": [
              "           0\n",
              "INFN   29823\n",
              "PRCL   84937\n",
              "VERB  177727\n",
              "ADVB   82406\n",
              "PREP   89626\n",
              "NPRO  134789\n",
              "NOUN  224332\n",
              "ADJF   72053\n",
              "PRED   10254\n",
              "NUMR    4425\n",
              "CONJ  115646\n",
              "PRTF    3106\n",
              "GRND    5810\n",
              "ADJS    7477\n",
              "COMP    4309\n",
              "PRTS    1840\n",
              "INTJ    2393"
            ]
          },
          "metadata": {
            "tags": []
          },
          "execution_count": 85
        }
      ]
    },
    {
      "cell_type": "code",
      "metadata": {
        "colab": {
          "base_uri": "https://localhost:8080/",
          "height": 593
        },
        "id": "wUgWkCWYWUsa",
        "outputId": "6a490063-6453-4426-ed48-bc31fb72f29c"
      },
      "source": [
        "df_aP = pd.DataFrame(a_Polyakova.values(), a_Polyakova.keys())\n",
        "print('Полякова: авторская речь')\n",
        "df_aP.to_csv('Polyakova_author.csv')\n",
        "df_aP"
      ],
      "execution_count": null,
      "outputs": [
        {
          "output_type": "stream",
          "text": [
            "Полякова: авторская речь\n"
          ],
          "name": "stdout"
        },
        {
          "output_type": "execute_result",
          "data": {
            "text/html": [
              "<div>\n",
              "<style scoped>\n",
              "    .dataframe tbody tr th:only-of-type {\n",
              "        vertical-align: middle;\n",
              "    }\n",
              "\n",
              "    .dataframe tbody tr th {\n",
              "        vertical-align: top;\n",
              "    }\n",
              "\n",
              "    .dataframe thead th {\n",
              "        text-align: right;\n",
              "    }\n",
              "</style>\n",
              "<table border=\"1\" class=\"dataframe\">\n",
              "  <thead>\n",
              "    <tr style=\"text-align: right;\">\n",
              "      <th></th>\n",
              "      <th>0</th>\n",
              "    </tr>\n",
              "  </thead>\n",
              "  <tbody>\n",
              "    <tr>\n",
              "      <th>PREP</th>\n",
              "      <td>348545</td>\n",
              "    </tr>\n",
              "    <tr>\n",
              "      <th>NOUN</th>\n",
              "      <td>719954</td>\n",
              "    </tr>\n",
              "    <tr>\n",
              "      <th>ADJF</th>\n",
              "      <td>238102</td>\n",
              "    </tr>\n",
              "    <tr>\n",
              "      <th>VERB</th>\n",
              "      <td>533880</td>\n",
              "    </tr>\n",
              "    <tr>\n",
              "      <th>NPRO</th>\n",
              "      <td>361207</td>\n",
              "    </tr>\n",
              "    <tr>\n",
              "      <th>CONJ</th>\n",
              "      <td>334230</td>\n",
              "    </tr>\n",
              "    <tr>\n",
              "      <th>PRCL</th>\n",
              "      <td>183587</td>\n",
              "    </tr>\n",
              "    <tr>\n",
              "      <th>PRTF</th>\n",
              "      <td>13131</td>\n",
              "    </tr>\n",
              "    <tr>\n",
              "      <th>ADVB</th>\n",
              "      <td>237877</td>\n",
              "    </tr>\n",
              "    <tr>\n",
              "      <th>ADJS</th>\n",
              "      <td>22115</td>\n",
              "    </tr>\n",
              "    <tr>\n",
              "      <th>INFN</th>\n",
              "      <td>104877</td>\n",
              "    </tr>\n",
              "    <tr>\n",
              "      <th>COMP</th>\n",
              "      <td>14010</td>\n",
              "    </tr>\n",
              "    <tr>\n",
              "      <th>GRND</th>\n",
              "      <td>41935</td>\n",
              "    </tr>\n",
              "    <tr>\n",
              "      <th>INTJ</th>\n",
              "      <td>4200</td>\n",
              "    </tr>\n",
              "    <tr>\n",
              "      <th>NUMR</th>\n",
              "      <td>17742</td>\n",
              "    </tr>\n",
              "    <tr>\n",
              "      <th>PRTS</th>\n",
              "      <td>7635</td>\n",
              "    </tr>\n",
              "    <tr>\n",
              "      <th>PRED</th>\n",
              "      <td>15656</td>\n",
              "    </tr>\n",
              "  </tbody>\n",
              "</table>\n",
              "</div>"
            ],
            "text/plain": [
              "           0\n",
              "PREP  348545\n",
              "NOUN  719954\n",
              "ADJF  238102\n",
              "VERB  533880\n",
              "NPRO  361207\n",
              "CONJ  334230\n",
              "PRCL  183587\n",
              "PRTF   13131\n",
              "ADVB  237877\n",
              "ADJS   22115\n",
              "INFN  104877\n",
              "COMP   14010\n",
              "GRND   41935\n",
              "INTJ    4200\n",
              "NUMR   17742\n",
              "PRTS    7635\n",
              "PRED   15656"
            ]
          },
          "metadata": {
            "tags": []
          },
          "execution_count": 86
        }
      ]
    },
    {
      "cell_type": "code",
      "metadata": {
        "colab": {
          "base_uri": "https://localhost:8080/",
          "height": 593
        },
        "id": "2ou3OFGXWZX6",
        "outputId": "599e394d-9b60-40fa-fe24-31adbf18be87"
      },
      "source": [
        "df_dP = pd.DataFrame(d_Polyakova.values(), d_Polyakova.keys())\n",
        "print('Полякова: прямая речь')\n",
        "df_dP.to_csv('Polyakova_dialog.csv')\n",
        "df_dP"
      ],
      "execution_count": null,
      "outputs": [
        {
          "output_type": "stream",
          "text": [
            "Полякова: прямая речь\n"
          ],
          "name": "stdout"
        },
        {
          "output_type": "execute_result",
          "data": {
            "text/html": [
              "<div>\n",
              "<style scoped>\n",
              "    .dataframe tbody tr th:only-of-type {\n",
              "        vertical-align: middle;\n",
              "    }\n",
              "\n",
              "    .dataframe tbody tr th {\n",
              "        vertical-align: top;\n",
              "    }\n",
              "\n",
              "    .dataframe thead th {\n",
              "        text-align: right;\n",
              "    }\n",
              "</style>\n",
              "<table border=\"1\" class=\"dataframe\">\n",
              "  <thead>\n",
              "    <tr style=\"text-align: right;\">\n",
              "      <th></th>\n",
              "      <th>0</th>\n",
              "    </tr>\n",
              "  </thead>\n",
              "  <tbody>\n",
              "    <tr>\n",
              "      <th>ADVB</th>\n",
              "      <td>111706</td>\n",
              "    </tr>\n",
              "    <tr>\n",
              "      <th>NPRO</th>\n",
              "      <td>208348</td>\n",
              "    </tr>\n",
              "    <tr>\n",
              "      <th>NOUN</th>\n",
              "      <td>306637</td>\n",
              "    </tr>\n",
              "    <tr>\n",
              "      <th>VERB</th>\n",
              "      <td>269939</td>\n",
              "    </tr>\n",
              "    <tr>\n",
              "      <th>CONJ</th>\n",
              "      <td>158501</td>\n",
              "    </tr>\n",
              "    <tr>\n",
              "      <th>PREP</th>\n",
              "      <td>145857</td>\n",
              "    </tr>\n",
              "    <tr>\n",
              "      <th>GRND</th>\n",
              "      <td>13274</td>\n",
              "    </tr>\n",
              "    <tr>\n",
              "      <th>ADJF</th>\n",
              "      <td>104267</td>\n",
              "    </tr>\n",
              "    <tr>\n",
              "      <th>ADJS</th>\n",
              "      <td>13099</td>\n",
              "    </tr>\n",
              "    <tr>\n",
              "      <th>INFN</th>\n",
              "      <td>53196</td>\n",
              "    </tr>\n",
              "    <tr>\n",
              "      <th>PRTF</th>\n",
              "      <td>3070</td>\n",
              "    </tr>\n",
              "    <tr>\n",
              "      <th>PRCL</th>\n",
              "      <td>109631</td>\n",
              "    </tr>\n",
              "    <tr>\n",
              "      <th>NUMR</th>\n",
              "      <td>6692</td>\n",
              "    </tr>\n",
              "    <tr>\n",
              "      <th>INTJ</th>\n",
              "      <td>3625</td>\n",
              "    </tr>\n",
              "    <tr>\n",
              "      <th>PRED</th>\n",
              "      <td>11476</td>\n",
              "    </tr>\n",
              "    <tr>\n",
              "      <th>PRTS</th>\n",
              "      <td>3186</td>\n",
              "    </tr>\n",
              "    <tr>\n",
              "      <th>COMP</th>\n",
              "      <td>7180</td>\n",
              "    </tr>\n",
              "  </tbody>\n",
              "</table>\n",
              "</div>"
            ],
            "text/plain": [
              "           0\n",
              "ADVB  111706\n",
              "NPRO  208348\n",
              "NOUN  306637\n",
              "VERB  269939\n",
              "CONJ  158501\n",
              "PREP  145857\n",
              "GRND   13274\n",
              "ADJF  104267\n",
              "ADJS   13099\n",
              "INFN   53196\n",
              "PRTF    3070\n",
              "PRCL  109631\n",
              "NUMR    6692\n",
              "INTJ    3625\n",
              "PRED   11476\n",
              "PRTS    3186\n",
              "COMP    7180"
            ]
          },
          "metadata": {
            "tags": []
          },
          "execution_count": 87
        }
      ]
    },
    {
      "cell_type": "code",
      "metadata": {
        "id": "0qY5cTtcHeue"
      },
      "source": [
        "import matplotlib.pyplot as plt\n",
        "import numpy as np\n",
        "plt.style.use('ggplot')\n",
        "%matplotlib inline"
      ],
      "execution_count": 25,
      "outputs": []
    },
    {
      "cell_type": "code",
      "metadata": {
        "id": "jgzTgSZeKxDm"
      },
      "source": [
        "Litvinovy_author = df_sort(pd.read_csv('/content/drive/MyDrive/Colab Notebooks/Курсовая/Litvinovy_author.csv'))\n",
        "Litvinovy_dialog = df_sort(pd.read_csv('/content/drive/MyDrive/Colab Notebooks/Курсовая/Litvinovy_dialog.csv'))\n",
        "Marinina_author = df_sort(pd.read_csv('/content/drive/MyDrive/Colab Notebooks/Курсовая/Marinina_author.csv'))\n",
        "Marinina_dialog = df_sort(pd.read_csv('/content/drive/MyDrive/Colab Notebooks/Курсовая/Marinina_dialog.csv'))\n",
        "Polyakova_author = df_sort(pd.read_csv('/content/drive/MyDrive/Colab Notebooks/Курсовая/Polyakova_author.csv'))\n",
        "Polyakova_dialog = df_sort(pd.read_csv('/content/drive/MyDrive/Colab Notebooks/Курсовая/Polyakova_dialog.csv'))\n",
        "Ustinova_author = df_sort(pd.read_csv('/content/drive/MyDrive/Colab Notebooks/Курсовая/Ustinova_author.csv'))\n",
        "Ustinova_dialog = df_sort(pd.read_csv('/content/drive/MyDrive/Colab Notebooks/Курсовая/Ustinova_dialog.csv'))"
      ],
      "execution_count": 57,
      "outputs": []
    },
    {
      "cell_type": "code",
      "metadata": {
        "id": "_fbKIWRPxMXX"
      },
      "source": [
        "def df_sort(df):\n",
        "    return df.sort_values(by=['pos'])"
      ],
      "execution_count": 55,
      "outputs": []
    },
    {
      "cell_type": "code",
      "metadata": {
        "id": "n82VUVxtuYpN"
      },
      "source": [
        "def graphic(df, name):\n",
        "\n",
        "    pos = df['pos']\n",
        "\n",
        "    frequency_of_pos = df['freq']\n",
        "\n",
        "    plt.bar(pos, frequency_of_pos, color=['#E24A33', '#348ABD', '#988ED5', '#777777', '#FBC15E', '#8EBA42',\n",
        "                                        '#FFB5B8', '#003FFF', '#03ED3A', '#E8000B', '#8A2BE2', '#FFC400',\n",
        "                                        '#00D7FF', '#348ABD', '#A60628', '#7A68A6', '#467821'])\n",
        "    plt.xticks(rotation='vertical')\n",
        "    plt.title(name)\n",
        "    plt.ylabel('Частотность')\n",
        "    plt.xlabel('Части речи')"
      ],
      "execution_count": 49,
      "outputs": []
    },
    {
      "cell_type": "code",
      "metadata": {
        "colab": {
          "base_uri": "https://localhost:8080/"
        },
        "id": "6HyOjUwf0Vpi",
        "outputId": "c0a3b390-ef09-407a-c4db-5738150b2f37"
      },
      "source": [
        "print('Обозначения частей речи в pymorphy2:')\n",
        "print('''NOUN - имя существительное,\n",
        "ADJF - имя прилагательное (полное),\n",
        "ADJS - имя прилагательное (краткое),\n",
        "COMP - компаратив, \n",
        "VERB - глагол (личная форма),\n",
        "INFN - глагол (инфинитив),\n",
        "PRTF - причастие (полное), \n",
        "PRTS - причастие (краткое)\n",
        "GRND - деепричастие,\n",
        "NUMR - числительное,\n",
        "ADVB - наречие,\n",
        "NPRO - местоимение-существительное,\n",
        "PRED - предикатив,\n",
        "PREP - предлог,\n",
        "CONJ - союз,\n",
        "PRCL - частица,\n",
        "INTJ - междометие''')"
      ],
      "execution_count": 68,
      "outputs": [
        {
          "output_type": "stream",
          "text": [
            "Обозначения частей речи в pymorphy2:\n",
            "NOUN - имя существительное,\n",
            "ADJF - имя прилагательное (полное),\n",
            "ADJS - имя прилагательное (краткое),\n",
            "COMP - компаратив, \n",
            "VERB - глагол (личная форма),\n",
            "INFN - глагол (инфинитив),\n",
            "PRTF - причастие (полное), \n",
            "PRTS - причастие (краткое)\n",
            "GRND - деепричастие,\n",
            "NUMR - числительное,\n",
            "ADVB - наречие,\n",
            "NPRO - местоимение-существительное,\n",
            "PRED - предикатив,\n",
            "PREP - предлог,\n",
            "CONJ - союз,\n",
            "PRCL - частица,\n",
            "INTJ - междометие\n"
          ],
          "name": "stdout"
        }
      ]
    },
    {
      "cell_type": "code",
      "metadata": {
        "colab": {
          "base_uri": "https://localhost:8080/",
          "height": 326
        },
        "id": "UEF5ByVrw1HB",
        "outputId": "747a5af8-3e25-4aaf-940d-5d131905e897"
      },
      "source": [
        "graphic(Litvinovy_author, 'Литвиновы: авторская речь')"
      ],
      "execution_count": 58,
      "outputs": [
        {
          "output_type": "display_data",
          "data": {
            "image/png": "[encoded data removed]",
            "text/plain": [
              "<Figure size 432x288 with 1 Axes>"
            ]
          },
          "metadata": {
            "tags": [],
            "needs_background": "light"
          }
        }
      ]
    },
    {
      "cell_type": "code",
      "metadata": {
        "colab": {
          "base_uri": "https://localhost:8080/",
          "height": 326
        },
        "id": "HBLGXc1rw9ED",
        "outputId": "4fb39a12-97c5-4351-fd54-7575483c80de"
      },
      "source": [
        "graphic(Litvinovy_dialog, 'Литвиновы: прямая речь')"
      ],
      "execution_count": 59,
      "outputs": [
        {
          "output_type": "display_data",
          "data": {
            "image/png": "[encoded data removed]",
            "text/plain": [
              "<Figure size 432x288 with 1 Axes>"
            ]
          },
          "metadata": {
            "tags": [],
            "needs_background": "light"
          }
        }
      ]
    },
    {
      "cell_type": "code",
      "metadata": {
        "colab": {
          "base_uri": "https://localhost:8080/",
          "height": 326
        },
        "id": "NbeXs81NzVYY",
        "outputId": "9028a972-631d-4f2c-8821-96de582d5847"
      },
      "source": [
        "graphic(Marinina_author, 'Маринина: авторская речь')"
      ],
      "execution_count": 61,
      "outputs": [
        {
          "output_type": "display_data",
          "data": {
            "image/png": "[encoded data removed]",
            "text/plain": [
              "<Figure size 432x288 with 1 Axes>"
            ]
          },
          "metadata": {
            "tags": [],
            "needs_background": "light"
          }
        }
      ]
    },
    {
      "cell_type": "code",
      "metadata": {
        "colab": {
          "base_uri": "https://localhost:8080/",
          "height": 326
        },
        "id": "KQmdhSLozCuW",
        "outputId": "82b22b42-138f-408b-8c45-4693ae1ae5d7"
      },
      "source": [
        "graphic(Marinina_dialog, 'Маринина: прямая речь')"
      ],
      "execution_count": 60,
      "outputs": [
        {
          "output_type": "display_data",
          "data": {
            "image/png": "[encoded data removed]",
            "text/plain": [
              "<Figure size 432x288 with 1 Axes>"
            ]
          },
          "metadata": {
            "tags": [],
            "needs_background": "light"
          }
        }
      ]
    },
    {
      "cell_type": "code",
      "metadata": {
        "colab": {
          "base_uri": "https://localhost:8080/",
          "height": 326
        },
        "id": "5NdZh9grzWxw",
        "outputId": "abd6f649-8d9f-4d49-cafc-6c4c433b216d"
      },
      "source": [
        "graphic(Polyakova_author, 'Полякова: авторская речь')"
      ],
      "execution_count": 62,
      "outputs": [
        {
          "output_type": "display_data",
          "data": {
            "image/png": "[encoded data removed]",
            "text/plain": [
              "<Figure size 432x288 with 1 Axes>"
            ]
          },
          "metadata": {
            "tags": [],
            "needs_background": "light"
          }
        }
      ]
    },
    {
      "cell_type": "code",
      "metadata": {
        "colab": {
          "base_uri": "https://localhost:8080/",
          "height": 326
        },
        "id": "soWFhFzCzmPD",
        "outputId": "40cd0c24-fd07-4a3c-b26d-b2a19757251b"
      },
      "source": [
        "graphic(Polyakova_dialog, 'Полякова: прямая речь')"
      ],
      "execution_count": 63,
      "outputs": [
        {
          "output_type": "display_data",
          "data": {
            "image/png": "[encoded data removed]",
            "text/plain": [
              "<Figure size 432x288 with 1 Axes>"
            ]
          },
          "metadata": {
            "tags": [],
            "needs_background": "light"
          }
        }
      ]
    },
    {
      "cell_type": "code",
      "metadata": {
        "colab": {
          "base_uri": "https://localhost:8080/",
          "height": 326
        },
        "id": "rvkwFz25zkDy",
        "outputId": "0460adba-aae8-4e53-999d-9c0af6386e9d"
      },
      "source": [
        "graphic(Ustinova_author, 'Устинова: авторская речь')"
      ],
      "execution_count": 64,
      "outputs": [
        {
          "output_type": "display_data",
          "data": {
            "image/png": "[encoded data removed]",
            "text/plain": [
              "<Figure size 432x288 with 1 Axes>"
            ]
          },
          "metadata": {
            "tags": [],
            "needs_background": "light"
          }
        }
      ]
    },
    {
      "cell_type": "code",
      "metadata": {
        "colab": {
          "base_uri": "https://localhost:8080/",
          "height": 326
        },
        "id": "7KtTVMO2zodq",
        "outputId": "7d06bd87-dc17-49cf-c501-b92a05bcb459"
      },
      "source": [
        "graphic(Ustinova_dialog, 'Устинова: прямая речь')"
      ],
      "execution_count": 65,
      "outputs": [
        {
          "output_type": "display_data",
          "data": {
            "image/png": "[encoded data removed]",
            "text/plain": [
              "<Figure size 432x288 with 1 Axes>"
            ]
          },
          "metadata": {
            "tags": [],
            "needs_background": "light"
          }
        }
      ]
    }
  ]
}